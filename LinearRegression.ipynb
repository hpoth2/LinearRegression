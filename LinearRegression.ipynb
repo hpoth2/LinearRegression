{
 "cells": [
  {
   "cell_type": "code",
   "execution_count": 70,
   "metadata": {
    "collapsed": false
   },
   "outputs": [],
   "source": [
    "from sklearn import datasets\n",
    "import pandas as pd\n",
    "from sklearn.preprocessing import StandardScaler\n",
    "from sklearn.cross_validation import train_test_split\n",
    "from sklearn.metrics import mean_squared_error\n",
    "from sklearn.metrics import r2_score\n",
    "from sklearn.linear_model import LinearRegression\n",
    "from sklearn.linear_model import Ridge\n",
    "from sklearn.linear_model import RidgeCV"
   ]
  },
  {
   "cell_type": "code",
   "execution_count": 71,
   "metadata": {
    "collapsed": true
   },
   "outputs": [],
   "source": [
    "bean = datasets.load_boston()"
   ]
  },
  {
   "cell_type": "code",
   "execution_count": 72,
   "metadata": {
    "collapsed": false,
    "scrolled": true
   },
   "outputs": [
    {
     "name": "stdout",
     "output_type": "stream",
     "text": [
      "Boston House Prices dataset\n",
      "\n",
      "Notes\n",
      "------\n",
      "Data Set Characteristics:  \n",
      "\n",
      "    :Number of Instances: 506 \n",
      "\n",
      "    :Number of Attributes: 13 numeric/categorical predictive\n",
      "    \n",
      "    :Median Value (attribute 14) is usually the target\n",
      "\n",
      "    :Attribute Information (in order):\n",
      "        - CRIM     per capita crime rate by town\n",
      "        - ZN       proportion of residential land zoned for lots over 25,000 sq.ft.\n",
      "        - INDUS    proportion of non-retail business acres per town\n",
      "        - CHAS     Charles River dummy variable (= 1 if tract bounds river; 0 otherwise)\n",
      "        - NOX      nitric oxides concentration (parts per 10 million)\n",
      "        - RM       average number of rooms per dwelling\n",
      "        - AGE      proportion of owner-occupied units built prior to 1940\n",
      "        - DIS      weighted distances to five Boston employment centres\n",
      "        - RAD      index of accessibility to radial highways\n",
      "        - TAX      full-value property-tax rate per $10,000\n",
      "        - PTRATIO  pupil-teacher ratio by town\n",
      "        - B        1000(Bk - 0.63)^2 where Bk is the proportion of blacks by town\n",
      "        - LSTAT    % lower status of the population\n",
      "        - MEDV     Median value of owner-occupied homes in $1000's\n",
      "\n",
      "    :Missing Attribute Values: None\n",
      "\n",
      "    :Creator: Harrison, D. and Rubinfeld, D.L.\n",
      "\n",
      "This is a copy of UCI ML housing dataset.\n",
      "http://archive.ics.uci.edu/ml/datasets/Housing\n",
      "\n",
      "\n",
      "This dataset was taken from the StatLib library which is maintained at Carnegie Mellon University.\n",
      "\n",
      "The Boston house-price data of Harrison, D. and Rubinfeld, D.L. 'Hedonic\n",
      "prices and the demand for clean air', J. Environ. Economics & Management,\n",
      "vol.5, 81-102, 1978.   Used in Belsley, Kuh & Welsch, 'Regression diagnostics\n",
      "...', Wiley, 1980.   N.B. Various transformations are used in the table on\n",
      "pages 244-261 of the latter.\n",
      "\n",
      "The Boston house-price data has been used in many machine learning papers that address regression\n",
      "problems.   \n",
      "     \n",
      "**References**\n",
      "\n",
      "   - Belsley, Kuh & Welsch, 'Regression diagnostics: Identifying Influential Data and Sources of Collinearity', Wiley, 1980. 244-261.\n",
      "   - Quinlan,R. (1993). Combining Instance-Based and Model-Based Learning. In Proceedings on the Tenth International Conference of Machine Learning, 236-243, University of Massachusetts, Amherst. Morgan Kaufmann.\n",
      "   - many more! (see http://archive.ics.uci.edu/ml/datasets/Housing)\n",
      "\n"
     ]
    }
   ],
   "source": [
    "print bean.DESCR"
   ]
  },
  {
   "cell_type": "code",
   "execution_count": 73,
   "metadata": {
    "collapsed": true
   },
   "outputs": [],
   "source": [
    "def load_boston():\n",
    "    scaler = StandardScaler()\n",
    "    boston = datasets.load_boston()\n",
    "    X=boston.data\n",
    "    y=boston.target\n",
    "    X = scaler.fit_transform(X)\n",
    "    return train_test_split(X,y)"
   ]
  },
  {
   "cell_type": "code",
   "execution_count": 74,
   "metadata": {
    "collapsed": true
   },
   "outputs": [],
   "source": [
    "X_train, X_test, y_train, y_test = load_boston()"
   ]
  },
  {
   "cell_type": "code",
   "execution_count": 75,
   "metadata": {
    "collapsed": false
   },
   "outputs": [
    {
     "data": {
      "text/plain": [
       "(379L, 13L)"
      ]
     },
     "execution_count": 75,
     "metadata": {},
     "output_type": "execute_result"
    }
   ],
   "source": [
    "X_train.shape"
   ]
  },
  {
   "cell_type": "code",
   "execution_count": 159,
   "metadata": {
    "collapsed": false
   },
   "outputs": [
    {
     "data": {
      "text/plain": [
       "LinearRegression(copy_X=True, fit_intercept=True, n_jobs=1, normalize=False)"
      ]
     },
     "execution_count": 159,
     "metadata": {},
     "output_type": "execute_result"
    }
   ],
   "source": [
    "clf = LinearRegression()\n",
    "clf.fit(X_train, y_train)"
   ]
  },
  {
   "cell_type": "code",
   "execution_count": 160,
   "metadata": {
    "collapsed": false
   },
   "outputs": [
    {
     "data": {
      "text/plain": [
       "[(13.800000000000001, 6.0618464471219582),\n",
       " (44.799999999999997, 38.429409935122216),\n",
       " (24.399999999999999, 23.483284789498029),\n",
       " (18.699999999999999, 21.3777914080489),\n",
       " (23.199999999999999, 17.03399668756196),\n",
       " (18.0, 19.047069107810323),\n",
       " (12.5, 19.136100892748772),\n",
       " (14.1, 17.411928699605966),\n",
       " (20.5, 20.807688403863317),\n",
       " (15.699999999999999, 14.843910240497543),\n",
       " (20.199999999999999, 16.009795332005538),\n",
       " (34.600000000000001, 35.383250678206579),\n",
       " (24.300000000000001, 19.633398190871258),\n",
       " (12.0, 11.499660026669638),\n",
       " (50.0, 42.035123987213254),\n",
       " (13.800000000000001, 20.132051431186028),\n",
       " (19.600000000000001, 17.835559071817233),\n",
       " (19.0, 14.326408500060488),\n",
       " (18.300000000000001, 19.186964046812442),\n",
       " (13.1, 14.416687818229878),\n",
       " (11.9, 8.3711587419306603),\n",
       " (19.899999999999999, 18.815554255188804),\n",
       " (24.5, 20.440062314164141),\n",
       " (18.300000000000001, 20.721967899674031),\n",
       " (22.800000000000001, 29.096709394014464),\n",
       " (23.899999999999999, 28.218113390521623),\n",
       " (19.800000000000001, 22.911648756882933),\n",
       " (24.5, 28.008837036499813),\n",
       " (50.0, 24.186211288055411),\n",
       " (22.600000000000001, 18.991710181130323),\n",
       " (23.199999999999999, 25.641752240351401),\n",
       " (20.399999999999999, 19.463398775784896),\n",
       " (26.199999999999999, 23.483812576445413),\n",
       " (15.0, 19.190369214409451),\n",
       " (15.6, 12.642833677760747),\n",
       " (33.100000000000001, 34.994652970996405),\n",
       " (19.300000000000001, 20.777504898146852),\n",
       " (22.199999999999999, 25.966156004034556),\n",
       " (28.199999999999999, 33.331485092366407),\n",
       " (32.200000000000003, 32.159576567877721),\n",
       " (9.5, 13.019824228223257),\n",
       " (20.300000000000001, 22.67389758507732),\n",
       " (25.0, 22.206129799723175),\n",
       " (20.699999999999999, 21.143216127014412),\n",
       " (24.300000000000001, 29.656741762863895),\n",
       " (19.199999999999999, 23.939093697817238),\n",
       " (19.300000000000001, 20.856819913277885),\n",
       " (15.6, 20.662191967539055),\n",
       " (19.100000000000001, 16.592107415468643),\n",
       " (16.100000000000001, 18.602607168304239),\n",
       " (17.800000000000001, 16.556880103860973),\n",
       " (16.0, 18.834002300841938),\n",
       " (35.399999999999999, 34.409705813429099),\n",
       " (16.100000000000001, 21.390300446365128),\n",
       " (18.899999999999999, 15.722521215347051),\n",
       " (33.200000000000003, 32.267404731781966),\n",
       " (26.600000000000001, 27.747155181322647),\n",
       " (22.399999999999999, 23.60442708233532),\n",
       " (16.699999999999999, 20.265125732748011),\n",
       " (22.100000000000001, 26.966515046653264),\n",
       " (11.300000000000001, 13.405542853009848),\n",
       " (22.199999999999999, 24.185525034305869),\n",
       " (21.399999999999999, 24.933045132436227),\n",
       " (46.0, 40.470961474551189),\n",
       " (22.699999999999999, 22.002115884891779),\n",
       " (23.899999999999999, 24.613066519811937),\n",
       " (29.0, 31.772960393377282),\n",
       " (18.5, 19.521247305365272),\n",
       " (22.0, 21.978933696378263),\n",
       " (8.3000000000000007, 10.045613106664131),\n",
       " (32.899999999999999, 31.096660653870757),\n",
       " (17.5, 16.061415760163108),\n",
       " (14.6, 19.075958654395187),\n",
       " (24.100000000000001, 30.164548132614307),\n",
       " (10.4, 7.0080546771795618),\n",
       " (7.2000000000000002, 9.5994868301497593),\n",
       " (21.100000000000001, 22.388910437618136),\n",
       " (14.9, 17.595880385570823),\n",
       " (23.699999999999999, 10.431452228991763),\n",
       " (28.5, 34.076798094990153),\n",
       " (25.100000000000001, 30.188567381049829),\n",
       " (33.100000000000001, 32.668152567925922),\n",
       " (22.300000000000001, 27.076997144783505),\n",
       " (19.300000000000001, 21.850018794341459),\n",
       " (23.600000000000001, 31.030826612568966),\n",
       " (19.100000000000001, 19.248494628496541),\n",
       " (15.300000000000001, 20.789714094410346),\n",
       " (28.699999999999999, 28.584644932568644),\n",
       " (20.100000000000001, 24.003066621374273),\n",
       " (5.0, 8.5118493507267807),\n",
       " (18.399999999999999, 18.678710140510102),\n",
       " (22.0, 27.725638459511693),\n",
       " (50.0, 35.870416326525785),\n",
       " (27.100000000000001, 27.049363164731012),\n",
       " (21.399999999999999, 21.756618425001523),\n",
       " (19.5, 19.954573616119507),\n",
       " (41.299999999999997, 33.734498920097735),\n",
       " (21.199999999999999, 21.522106809011987),\n",
       " (18.600000000000001, 16.710589979513998),\n",
       " (31.600000000000001, 34.033085734196241),\n",
       " (12.699999999999999, 11.571653284519691),\n",
       " (21.899999999999999, 24.448263623380903),\n",
       " (13.300000000000001, 13.927806516487202),\n",
       " (16.300000000000001, 12.097812793472297),\n",
       " (27.899999999999999, 32.44299225359805),\n",
       " (22.0, 26.431462919041671),\n",
       " (5.0, 6.5937091417467357),\n",
       " (31.199999999999999, 28.724740994531054),\n",
       " (17.399999999999999, 17.100287513158783),\n",
       " (11.800000000000001, 12.993611142367641),\n",
       " (20.5, 19.903606330979287),\n",
       " (35.200000000000003, 35.474213461636836),\n",
       " (12.699999999999999, 17.92909341954341),\n",
       " (33.399999999999999, 36.136405245878535),\n",
       " (30.100000000000001, 36.073129732246336),\n",
       " (8.5, 7.3623700576611206),\n",
       " (19.399999999999999, 19.954465293020185),\n",
       " (19.699999999999999, 21.22436239652761),\n",
       " (23.800000000000001, 26.887436079075236),\n",
       " (28.100000000000001, 24.874878674331363),\n",
       " (17.199999999999999, 14.336720608814115),\n",
       " (29.600000000000001, 25.025905533632876),\n",
       " (18.199999999999999, 14.41961238048496),\n",
       " (34.899999999999999, 34.706374865470167),\n",
       " (36.200000000000003, 27.711590244851074),\n",
       " (25.0, 29.121444241302939),\n",
       " (13.4, 13.283158340061899)]"
      ]
     },
     "execution_count": 160,
     "metadata": {},
     "output_type": "execute_result"
    }
   ],
   "source": [
    "zip (y_test, clf.predict(X_test))"
   ]
  },
  {
   "cell_type": "code",
   "execution_count": 161,
   "metadata": {
    "collapsed": false
   },
   "outputs": [
    {
     "data": {
      "text/plain": [
       "0.94860813704496794"
      ]
     },
     "execution_count": 161,
     "metadata": {},
     "output_type": "execute_result"
    }
   ],
   "source": [
    "y_true = [3, -0.5, 2, 7]\n",
    "y_pred = [2.5, 0.0, 2, 8]\n",
    "r2_score(y_true, y_pred)"
   ]
  },
  {
   "cell_type": "code",
   "execution_count": 162,
   "metadata": {
    "collapsed": false
   },
   "outputs": [
    {
     "data": {
      "text/plain": [
       "0.7262329870057791"
      ]
     },
     "execution_count": 162,
     "metadata": {},
     "output_type": "execute_result"
    }
   ],
   "source": [
    "r2_score(y_test,clf.predict(X_test))"
   ]
  },
  {
   "cell_type": "code",
   "execution_count": 163,
   "metadata": {
    "collapsed": false
   },
   "outputs": [
    {
     "data": {
      "text/plain": [
       "20.431749365008006"
      ]
     },
     "execution_count": 163,
     "metadata": {},
     "output_type": "execute_result"
    }
   ],
   "source": [
    "mean_squared_error(y_test,clf.predict(X_test))"
   ]
  },
  {
   "cell_type": "code",
   "execution_count": 164,
   "metadata": {
    "collapsed": false
   },
   "outputs": [],
   "source": [
    "clf = Ridge (alpha = 0.5)"
   ]
  },
  {
   "cell_type": "code",
   "execution_count": 165,
   "metadata": {
    "collapsed": false
   },
   "outputs": [
    {
     "data": {
      "text/plain": [
       "Ridge(alpha=0.5, copy_X=True, fit_intercept=True, max_iter=None,\n",
       "   normalize=False, random_state=None, solver='auto', tol=0.001)"
      ]
     },
     "execution_count": 165,
     "metadata": {},
     "output_type": "execute_result"
    }
   ],
   "source": [
    "clf.fit (X_train, y_train)"
   ]
  },
  {
   "cell_type": "code",
   "execution_count": 166,
   "metadata": {
    "collapsed": false
   },
   "outputs": [
    {
     "data": {
      "text/plain": [
       "[(13.800000000000001, 6.0547184950841491),\n",
       " (44.799999999999997, 38.409437406529079),\n",
       " (24.399999999999999, 23.475044777820166),\n",
       " (18.699999999999999, 21.370701604547175),\n",
       " (23.199999999999999, 17.030648187973046),\n",
       " (18.0, 19.054126045440743),\n",
       " (12.5, 19.128215579299461),\n",
       " (14.1, 17.411539839631313),\n",
       " (20.5, 20.730154630805281),\n",
       " (15.699999999999999, 14.772448790379357),\n",
       " (20.199999999999999, 16.023966960527424),\n",
       " (34.600000000000001, 35.390522423063032),\n",
       " (24.300000000000001, 19.653501312808629),\n",
       " (12.0, 11.48586920035882),\n",
       " (50.0, 42.036285436902403),\n",
       " (13.800000000000001, 20.12015965103971),\n",
       " (19.600000000000001, 17.848592552681492),\n",
       " (19.0, 14.31996826016913),\n",
       " (18.300000000000001, 19.20403810059274),\n",
       " (13.1, 14.437696541832871),\n",
       " (11.9, 8.34644999223692),\n",
       " (19.899999999999999, 18.818926870439569),\n",
       " (24.5, 20.457891440513599),\n",
       " (18.300000000000001, 20.736502539200213),\n",
       " (22.800000000000001, 29.069783180166915),\n",
       " (23.899999999999999, 28.229706445679248),\n",
       " (19.800000000000001, 22.921981307384282),\n",
       " (24.5, 28.009502151805069),\n",
       " (50.0, 24.127822197331643),\n",
       " (22.600000000000001, 18.995844333697065),\n",
       " (23.199999999999999, 25.64189525417542),\n",
       " (20.399999999999999, 19.480839422127843),\n",
       " (26.199999999999999, 23.506769065028021),\n",
       " (15.0, 19.211755854334427),\n",
       " (15.6, 12.674341793098057),\n",
       " (33.100000000000001, 34.979625063938443),\n",
       " (19.300000000000001, 20.837528998706855),\n",
       " (22.199999999999999, 25.953832016504155),\n",
       " (28.199999999999999, 33.277860998886581),\n",
       " (32.200000000000003, 32.157839265633797),\n",
       " (9.5, 13.02306009644796),\n",
       " (20.300000000000001, 22.594562550504865),\n",
       " (25.0, 22.216221112365726),\n",
       " (20.699999999999999, 21.156248287793609),\n",
       " (24.300000000000001, 29.621472862322669),\n",
       " (19.199999999999999, 23.950642492119972),\n",
       " (19.300000000000001, 20.873790130856921),\n",
       " (15.6, 20.7073922364476),\n",
       " (19.100000000000001, 16.582140172276656),\n",
       " (16.100000000000001, 18.590186764134121),\n",
       " (17.800000000000001, 16.564483492591499),\n",
       " (16.0, 18.822426394068916),\n",
       " (35.399999999999999, 34.380716656590096),\n",
       " (16.100000000000001, 21.365025183145029),\n",
       " (18.899999999999999, 15.779001474757143),\n",
       " (33.200000000000003, 32.277478944489232),\n",
       " (26.600000000000001, 27.743896412546427),\n",
       " (22.399999999999999, 23.606501897332123),\n",
       " (16.699999999999999, 20.249264640351093),\n",
       " (22.100000000000001, 26.952121288905513),\n",
       " (11.300000000000001, 13.397294244074379),\n",
       " (22.199999999999999, 24.185525494327731),\n",
       " (21.399999999999999, 24.937609825786417),\n",
       " (46.0, 40.458063403255352),\n",
       " (22.699999999999999, 22.02191868381535),\n",
       " (23.899999999999999, 24.616850566126157),\n",
       " (29.0, 31.770053284873075),\n",
       " (18.5, 19.518333419885668),\n",
       " (22.0, 21.901857963526464),\n",
       " (8.3000000000000007, 10.048973182104842),\n",
       " (32.899999999999999, 31.125707634892812),\n",
       " (17.5, 16.127113272409279),\n",
       " (14.6, 19.058175365380176),\n",
       " (24.100000000000001, 30.161888610161892),\n",
       " (10.4, 7.0135914253805378),\n",
       " (7.2000000000000002, 9.6137092874715666),\n",
       " (21.100000000000001, 22.366833354233513),\n",
       " (14.9, 17.59821398992122),\n",
       " (23.699999999999999, 10.44122298231548),\n",
       " (28.5, 34.024739832644855),\n",
       " (25.100000000000001, 30.18978675030823),\n",
       " (33.100000000000001, 32.653084585296206),\n",
       " (22.300000000000001, 27.058312965559669),\n",
       " (19.300000000000001, 21.841074669398736),\n",
       " (23.600000000000001, 31.034803635705039),\n",
       " (19.100000000000001, 19.23456971710436),\n",
       " (15.300000000000001, 20.815167139624904),\n",
       " (28.699999999999999, 28.551155311209591),\n",
       " (20.100000000000001, 23.99276333320369),\n",
       " (5.0, 8.5397064346316363),\n",
       " (18.399999999999999, 18.676047069790719),\n",
       " (22.0, 27.726989366346672),\n",
       " (50.0, 35.858331713984846),\n",
       " (27.100000000000001, 27.032833944653181),\n",
       " (21.399999999999999, 21.734640900762003),\n",
       " (19.5, 19.95386654231989),\n",
       " (41.299999999999997, 33.706153090201312),\n",
       " (21.199999999999999, 21.512561210164602),\n",
       " (18.600000000000001, 16.783796814239658),\n",
       " (31.600000000000001, 33.999454125023711),\n",
       " (12.699999999999999, 11.596060714090543),\n",
       " (21.899999999999999, 24.467005384773401),\n",
       " (13.300000000000001, 13.936457741525407),\n",
       " (16.300000000000001, 12.077186334168079),\n",
       " (27.899999999999999, 32.391606075212991),\n",
       " (22.0, 26.426190443852665),\n",
       " (5.0, 6.6111536460999609),\n",
       " (31.199999999999999, 28.747363367201618),\n",
       " (17.399999999999999, 17.126917106193684),\n",
       " (11.800000000000001, 13.002957391078937),\n",
       " (20.5, 19.917535234838404),\n",
       " (35.200000000000003, 35.472064470487112),\n",
       " (12.699999999999999, 17.918651478625673),\n",
       " (33.399999999999999, 36.085313790588316),\n",
       " (30.100000000000001, 36.045820583223758),\n",
       " (8.5, 7.3826447237655657),\n",
       " (19.399999999999999, 19.969467678120871),\n",
       " (19.699999999999999, 21.222420330055595),\n",
       " (23.800000000000001, 26.866001405173627),\n",
       " (28.100000000000001, 24.864682181398397),\n",
       " (17.199999999999999, 14.403714722618867),\n",
       " (29.600000000000001, 25.008568570578742),\n",
       " (18.199999999999999, 14.462741828779489),\n",
       " (34.899999999999999, 34.6769511731531),\n",
       " (36.200000000000003, 27.729739550072477),\n",
       " (25.0, 29.065840054705276),\n",
       " (13.4, 13.300911595118075)]"
      ]
     },
     "execution_count": 166,
     "metadata": {},
     "output_type": "execute_result"
    }
   ],
   "source": [
    "zip (y_test, clf.predict(X_test))"
   ]
  },
  {
   "cell_type": "code",
   "execution_count": 167,
   "metadata": {
    "collapsed": false
   },
   "outputs": [
    {
     "data": {
      "text/plain": [
       "0.7264331669947981"
      ]
     },
     "execution_count": 167,
     "metadata": {},
     "output_type": "execute_result"
    }
   ],
   "source": [
    "r2_score(y_test,clf.predict(X_test))"
   ]
  },
  {
   "cell_type": "code",
   "execution_count": 168,
   "metadata": {
    "collapsed": false
   },
   "outputs": [
    {
     "data": {
      "text/plain": [
       "20.416809554258737"
      ]
     },
     "execution_count": 168,
     "metadata": {},
     "output_type": "execute_result"
    }
   ],
   "source": [
    "mean_squared_error(y_test,clf.predict(X_test))"
   ]
  },
  {
   "cell_type": "code",
   "execution_count": null,
   "metadata": {
    "collapsed": false
   },
   "outputs": [],
   "source": []
  },
  {
   "cell_type": "code",
   "execution_count": null,
   "metadata": {
    "collapsed": false
   },
   "outputs": [],
   "source": []
  },
  {
   "cell_type": "code",
   "execution_count": null,
   "metadata": {
    "collapsed": false
   },
   "outputs": [],
   "source": []
  },
  {
   "cell_type": "code",
   "execution_count": null,
   "metadata": {
    "collapsed": false
   },
   "outputs": [],
   "source": []
  },
  {
   "cell_type": "code",
   "execution_count": 176,
   "metadata": {
    "collapsed": false
   },
   "outputs": [
    {
     "data": {
      "text/plain": [
       "0.72627488836643628"
      ]
     },
     "execution_count": 176,
     "metadata": {},
     "output_type": "execute_result"
    }
   ],
   "source": [
    "clf = Ridge(alpha= 0.1)\n",
    "clf.fit (X_train, y_train)\n",
    "zip (y_test, clf.predict(X_test))\n",
    "r2_score(y_test,clf.predict(X_test))\n"
   ]
  },
  {
   "cell_type": "code",
   "execution_count": 177,
   "metadata": {
    "collapsed": false
   },
   "outputs": [
    {
     "data": {
      "text/plain": [
       "20.42862218730447"
      ]
     },
     "execution_count": 177,
     "metadata": {},
     "output_type": "execute_result"
    }
   ],
   "source": [
    "mean_squared_error(y_test,clf.predict(X_test))"
   ]
  },
  {
   "cell_type": "code",
   "execution_count": 178,
   "metadata": {
    "collapsed": false
   },
   "outputs": [
    {
     "data": {
      "text/plain": [
       "0.7262329870057791"
      ]
     },
     "execution_count": 178,
     "metadata": {},
     "output_type": "execute_result"
    }
   ],
   "source": [
    "clf = Ridge(alpha= 0.0)\n",
    "clf.fit (X_train, y_train)\n",
    "zip (y_test, clf.predict(X_test))\n",
    "r2_score(y_test,clf.predict(X_test))"
   ]
  },
  {
   "cell_type": "code",
   "execution_count": 179,
   "metadata": {
    "collapsed": false
   },
   "outputs": [
    {
     "data": {
      "text/plain": [
       "20.431749365008013"
      ]
     },
     "execution_count": 179,
     "metadata": {},
     "output_type": "execute_result"
    }
   ],
   "source": [
    "mean_squared_error(y_test,clf.predict(X_test))"
   ]
  },
  {
   "cell_type": "code",
   "execution_count": 182,
   "metadata": {
    "collapsed": false
   },
   "outputs": [
    {
     "data": {
      "text/plain": [
       "20.416809554258325"
      ]
     },
     "execution_count": 182,
     "metadata": {},
     "output_type": "execute_result"
    }
   ],
   "source": [
    "clf = RidgeCV(alphas=[-0.5,-0.1,0.1,0.5])\n",
    "clf.fit (X_train, y_train)\n",
    "zip (y_test, clf.predict(X_test))\n",
    "r2_score(y_test,clf.predict(X_test))\n",
    "mean_squared_error(y_test,clf.predict(X_test))"
   ]
  },
  {
   "cell_type": "code",
   "execution_count": 183,
   "metadata": {
    "collapsed": false
   },
   "outputs": [
    {
     "data": {
      "text/plain": [
       "array([-0.8758304 ,  1.3800219 ,  0.0264976 ,  0.68373871, -2.0031019 ,\n",
       "        2.5708441 ,  0.29994999, -3.27319817,  2.53131803, -2.1297503 ,\n",
       "       -2.13184288,  0.78786942, -3.84801198])"
      ]
     },
     "execution_count": 183,
     "metadata": {},
     "output_type": "execute_result"
    }
   ],
   "source": [
    "clf.coef_"
   ]
  },
  {
   "cell_type": "code",
   "execution_count": null,
   "metadata": {
    "collapsed": true
   },
   "outputs": [],
   "source": []
  }
 ],
 "metadata": {
  "kernelspec": {
   "display_name": "Python 2",
   "language": "python",
   "name": "python2"
  },
  "language_info": {
   "codemirror_mode": {
    "name": "ipython",
    "version": 2
   },
   "file_extension": ".py",
   "mimetype": "text/x-python",
   "name": "python",
   "nbconvert_exporter": "python",
   "pygments_lexer": "ipython2",
   "version": "2.7.11"
  }
 },
 "nbformat": 4,
 "nbformat_minor": 0
}
